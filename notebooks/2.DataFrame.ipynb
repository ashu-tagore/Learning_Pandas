{
 "cells": [
  {
   "cell_type": "code",
   "execution_count": 17,
   "id": "59a43bec-528d-4c50-bb39-b8dd2386c72f",
   "metadata": {},
   "outputs": [],
   "source": [
    "import pandas as pd\n",
    "import numpy as np"
   ]
  },
  {
   "cell_type": "markdown",
   "id": "0a747c4f-959e-4176-8bf3-06954042c36f",
   "metadata": {},
   "source": [
    "## DataFrame\n",
    "A DataFrame is like an Excel spreadsheet - it has rows and columns. But unlike Excel, it can handle millions of rows and do complex operations instantly.\n",
    "\n",
    "**Real-world analogy**: Think of a DataFrame like a filing cabinet:\n",
    "\n",
    "- Each **drawer** is a column (like \"Name\", \"Age\", \"Salary\")\n",
    "- Each **folder** is a row (like information about one person)\n",
    "- The **label on each drawer** is the column name\n",
    "- The **number on each folder** is the row index"
   ]
  },
  {
   "cell_type": "code",
   "execution_count": 18,
   "id": "695cac87-60cb-4d44-9f0c-b75bd77830ac",
   "metadata": {},
   "outputs": [
    {
     "name": "stdout",
     "output_type": "stream",
     "text": [
      "      Name  Age Department  Salary\n",
      "0    Alice   25         HR   50000\n",
      "1      Bob   30         IT   65000\n",
      "2  Charlie   35    Finance   70000\n",
      "3    Diana   28         IT   58000\n",
      "4      Eve   32         HR   52000\n",
      "      Name  Age Department  Salary\n",
      "0    Alice   25         HR   50000\n",
      "1      Bob   30         IT   65000\n",
      "2  Charlie   35    Finance   70000\n"
     ]
    }
   ],
   "source": [
    "# CREATING DATAFRAMES\n",
    "\n",
    "# Method 1: From a dictionary (most common)\n",
    "# Each key becomes a column name\n",
    "employee_data = {\n",
    "    'Name': ['Alice', 'Bob', 'Charlie', 'Diana', 'Eve'],\n",
    "    'Age': [25, 30, 35, 28, 32],\n",
    "    'Department': ['HR', 'IT', 'Finance', 'IT', 'HR'],\n",
    "    'Salary': [50000, 65000, 70000, 58000, 52000]\n",
    "}\n",
    "\n",
    "df = pd.DataFrame(employee_data)\n",
    "print(df)\n",
    "\n",
    "# Method 2: From a list of dictionaries (each dict is a row)\n",
    "employee_records = [\n",
    "    {'Name': 'Alice', 'Age': 25, 'Department': 'HR', 'Salary': 50000},\n",
    "    {'Name': 'Bob', 'Age': 30, 'Department': 'IT', 'Salary': 65000},\n",
    "    {'Name': 'Charlie', 'Age': 35, 'Department': 'Finance', 'Salary': 70000}\n",
    "]\n",
    "\n",
    "df2 = pd.DataFrame(employee_records)\n",
    "print(df2)\n",
    "\n",
    "# Method 3: From lists (need to specify column names)\n",
    "names = ['Alice', 'Bob', 'Charlie']\n",
    "ages = [25, 30, 35]\n",
    "departments = ['HR', 'IT', 'Finance']\n",
    "\n",
    "df3 = pd.DataFrame({\n",
    "    'Name': names,\n",
    "    'Age': ages,\n",
    "    'Department': departments\n",
    "})\n",
    "\n",
    "# Method 4: From numpy arrays (for numerical data)\n",
    "import numpy as np\n",
    "random_data = np.random.randn(5, 3)  # 5 rows, 3 columns of random numbers\n",
    "df4 = pd.DataFrame(random_data, \n",
    "                   columns=['Column1', 'Column2', 'Column3'],\n",
    "                   index=['Row1', 'Row2', 'Row3', 'Row4', 'Row5'])"
   ]
  },
  {
   "cell_type": "markdown",
   "id": "1c6042c5-43f0-4cd9-9bb0-10e40e518ce1",
   "metadata": {},
   "source": [
    "## Understanding DataFrame Structure"
   ]
  },
  {
   "cell_type": "code",
   "execution_count": 19,
   "id": "6a8092cb-0d96-4748-9405-4802b6c9cc88",
   "metadata": {},
   "outputs": [
    {
     "name": "stdout",
     "output_type": "stream",
     "text": [
      "Shape (rows, columns): (5, 4)\n",
      "Number of rows: 5\n",
      "Number of columns: 4\n",
      "Column names: ['Name', 'Age', 'Department', 'Salary']\n",
      "Index: [0, 1, 2, 3, 4]\n",
      "\n",
      "Data types:\n",
      "Name          object\n",
      "Age            int64\n",
      "Department    object\n",
      "Salary         int64\n",
      "dtype: object\n",
      "\n",
      "Memory usage:\n",
      "<class 'pandas.core.frame.DataFrame'>\n",
      "RangeIndex: 5 entries, 0 to 4\n",
      "Data columns (total 4 columns):\n",
      " #   Column      Non-Null Count  Dtype \n",
      "---  ------      --------------  ----- \n",
      " 0   Name        5 non-null      object\n",
      " 1   Age         5 non-null      int64 \n",
      " 2   Department  5 non-null      object\n",
      " 3   Salary      5 non-null      int64 \n",
      "dtypes: int64(2), object(2)\n",
      "memory usage: 292.0+ bytes\n",
      "None\n"
     ]
    }
   ],
   "source": [
    "# exploring our employee DataFrame\n",
    "df = pd.DataFrame(employee_data)\n",
    "\n",
    "# Basic information\n",
    "print(\"Shape (rows, columns):\", df.shape)        # (5, 4)\n",
    "print(\"Number of rows:\", len(df))                 # 5\n",
    "print(\"Number of columns:\", len(df.columns))      # 4\n",
    "print(\"Column names:\", df.columns.tolist())       # ['Name', 'Age', 'Department', 'Salary']\n",
    "print(\"Index:\", df.index.tolist())               # [0, 1, 2, 3, 4]\n",
    "\n",
    "# Data types of each column\n",
    "print(\"\\nData types:\")\n",
    "print(df.dtypes)\n",
    "\n",
    "# Memory usage\n",
    "print(\"\\nMemory usage:\")\n",
    "print(df.info())"
   ]
  },
  {
   "cell_type": "markdown",
   "id": "b4a531a9-1219-494a-b2fa-3e6fc6b9f3d8",
   "metadata": {},
   "source": [
    "## Basic DataFrame Operations"
   ]
  },
  {
   "cell_type": "code",
   "execution_count": 20,
   "id": "d1a5df99-2d0b-4d6c-9d09-fe5cd6b31df5",
   "metadata": {},
   "outputs": [
    {
     "name": "stdout",
     "output_type": "stream",
     "text": [
      "First 3 rows:\n",
      "      Name  Age Department  Salary\n",
      "0    Alice   25         HR   50000\n",
      "1      Bob   30         IT   65000\n",
      "2  Charlie   35    Finance   70000\n",
      "\n",
      "Last 2 rows:\n",
      "    Name  Age Department  Salary\n",
      "3  Diana   28         IT   58000\n",
      "4    Eve   32         HR   52000\n",
      "\n",
      "All names:\n",
      "0      Alice\n",
      "1        Bob\n",
      "2    Charlie\n",
      "3      Diana\n",
      "4        Eve\n",
      "Name: Name, dtype: object\n",
      "\n",
      "Multiple columns:\n",
      "      Name  Salary\n",
      "0    Alice   50000\n",
      "1      Bob   65000\n",
      "2  Charlie   70000\n",
      "3    Diana   58000\n",
      "4      Eve   52000\n",
      "\n",
      "First row:\n",
      "Name          Alice\n",
      "Age              25\n",
      "Department       HR\n",
      "Salary        50000\n",
      "Name: 0, dtype: object\n",
      "\n",
      "Multiple rows:\n",
      "      Name  Age Department  Salary\n",
      "0    Alice   25         HR   50000\n",
      "1      Bob   30         IT   65000\n",
      "2  Charlie   35    Finance   70000\n"
     ]
    }
   ],
   "source": [
    "# Viewing data\n",
    "print(\"First 3 rows:\")\n",
    "print(df.head(3))    # Shows first 3 rows\n",
    "\n",
    "print(\"\\nLast 2 rows:\")\n",
    "print(df.tail(2))    # Shows last 2 rows\n",
    "\n",
    "# Accessing columns\n",
    "print(\"\\nAll names:\")\n",
    "print(df['Name'])    # Returns a Series\n",
    "\n",
    "print(\"\\nMultiple columns:\")\n",
    "print(df[['Name', 'Salary']])  # Returns a DataFrame\n",
    "\n",
    "# Accessing rows\n",
    "print(\"\\nFirst row:\")\n",
    "print(df.iloc[0])    # Returns a Series\n",
    "\n",
    "print(\"\\nMultiple rows:\")\n",
    "print(df.iloc[0:3])  # Returns a DataFrame with rows 0, 1, 2"
   ]
  },
  {
   "cell_type": "markdown",
   "id": "74082642-5674-4496-9dc8-74beca8e1db3",
   "metadata": {},
   "source": [
    "### Practical Exercise 2"
   ]
  },
  {
   "cell_type": "code",
   "execution_count": 21,
   "id": "61ed0150-12b0-4d21-abbf-4c47d056cf63",
   "metadata": {},
   "outputs": [
    {
     "name": "stdout",
     "output_type": "stream",
     "text": [
      "Movie database:\n",
      "           Title  Year   Genre  Rating  Duration\n",
      "0     The Matrix  1999  Sci-Fi     8.7       136\n",
      "1      Inception  2010  Sci-Fi     8.8       148\n",
      "2   Interstellar  2014  Sci-Fi     8.6       169\n",
      "3   Pulp Fiction  1994   Crime     8.9       154\n",
      "4  The Godfather  1972   Crime     9.2       175\n",
      "\n",
      "Basic info:\n",
      "Total movies: 5\n",
      "Average rating: 8.8\n",
      "Longest movie: 175 minutes\n",
      "\n",
      "Movies longer than 150 minutes:\n",
      "           Title  Duration\n",
      "2   Interstellar       169\n",
      "3   Pulp Fiction       154\n",
      "4  The Godfather       175\n"
     ]
    }
   ],
   "source": [
    "# Creating a DataFrame of my favorite movies\n",
    "movies = {\n",
    "    'Title': ['The Matrix', 'Inception', 'Interstellar', 'Pulp Fiction', 'The Godfather'],\n",
    "    'Year': [1999, 2010, 2014, 1994, 1972],\n",
    "    'Genre': ['Sci-Fi', 'Sci-Fi', 'Sci-Fi', 'Crime', 'Crime'],\n",
    "    'Rating': [8.7, 8.8, 8.6, 8.9, 9.2],\n",
    "    'Duration': [136, 148, 169, 154, 175]\n",
    "}\n",
    "\n",
    "movie_df = pd.DataFrame(movies)\n",
    "\n",
    "# Exploring the data\n",
    "print(\"Movie database:\")\n",
    "print(movie_df)\n",
    "\n",
    "print(\"\\nBasic info:\")\n",
    "print(f\"Total movies: {len(movie_df)}\")\n",
    "print(f\"Average rating: {movie_df['Rating'].mean():.1f}\")\n",
    "print(f\"Longest movie: {movie_df['Duration'].max()} minutes\")\n",
    "\n",
    "# Finding movies longer than 150 minutes\n",
    "long_movies = movie_df[movie_df['Duration'] > 150]\n",
    "print(\"\\nMovies longer than 150 minutes:\")\n",
    "print(long_movies[['Title', 'Duration']])"
   ]
  },
  {
   "cell_type": "code",
   "execution_count": null,
   "id": "fe029ab0-e11a-405c-80a5-05ed1ae6f8a7",
   "metadata": {},
   "outputs": [],
   "source": []
  },
  {
   "cell_type": "code",
   "execution_count": null,
   "id": "42c8ef49-6ebd-4bfd-ba2b-1f3222815e8f",
   "metadata": {},
   "outputs": [],
   "source": []
  }
 ],
 "metadata": {
  "kernelspec": {
   "display_name": "Python 3 (ipykernel)",
   "language": "python",
   "name": "python3"
  },
  "language_info": {
   "codemirror_mode": {
    "name": "ipython",
    "version": 3
   },
   "file_extension": ".py",
   "mimetype": "text/x-python",
   "name": "python",
   "nbconvert_exporter": "python",
   "pygments_lexer": "ipython3",
   "version": "3.13.7"
  }
 },
 "nbformat": 4,
 "nbformat_minor": 5
}
