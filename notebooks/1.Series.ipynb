{
 "cells": [
  {
   "cell_type": "markdown",
   "id": "48ac17aa-4860-4f37-8b7c-d680fa8eebb2",
   "metadata": {},
   "source": [
    "<div class=\"alert alert-block alert-success\">\n",
    "<b>SERIES</b>\n",
    "<p>A series is a one-dimensional labelled array capable of holding any data type. The axis labels are collectively called index.</p>\n",
    "<p>Real-world example: Think of a Series like a list of students and their grades:</p>\n",
    "<ul>Student 1 → 85</ul>\n",
    "<ul>Student 2 → 92</ul>\n",
    "<ul>Student 3 → 78</ul>\n",
    "<ul>Student 4 → 95</ul>\n",
    "</div>"
   ]
  },
  {
   "cell_type": "markdown",
   "id": "0cb8f078-c9d0-4439-8a7e-1e5a3bf7556a",
   "metadata": {},
   "source": [
    "<div class=\"alert alert-block alert-danger\">\n",
    "Creating Series\n",
    "</div>"
   ]
  },
  {
   "cell_type": "code",
   "execution_count": 21,
   "id": "8dec72b1-4afc-44ac-9a4b-8b78f06bd0a1",
   "metadata": {},
   "outputs": [],
   "source": [
    "import numpy as np \n",
    "import pandas as pd "
   ]
  },
  {
   "cell_type": "code",
   "execution_count": 22,
   "id": "0b5fded4-2194-49c3-8501-af3af56c22e8",
   "metadata": {},
   "outputs": [],
   "source": [
    "# Creating different Python objects that can be converted to pandas Series\n",
    "labels = ['a', 'b', 'c']\n",
    "my_list = [10,20,30]\n",
    "arr = np.array([10,20,30])\n",
    "d = {'a':10,'b':20,'c':30}"
   ]
  },
  {
   "cell_type": "code",
   "execution_count": 23,
   "id": "e2e01bfd-b3e4-4a90-be54-667264c2ff5f",
   "metadata": {},
   "outputs": [
    {
     "data": {
      "text/plain": [
       "0    10\n",
       "1    20\n",
       "2    30\n",
       "dtype: int64"
      ]
     },
     "execution_count": 23,
     "metadata": {},
     "output_type": "execute_result"
    }
   ],
   "source": [
    "# Creating a Series from a Python list\n",
    "# Using default integer indexing (0, 1, 2...)\n",
    "pd.Series(my_list)"
   ]
  },
  {
   "cell_type": "code",
   "execution_count": 24,
   "id": "15028c7f-6ec0-4f9b-aafb-c3082217eec8",
   "metadata": {},
   "outputs": [
    {
     "data": {
      "text/plain": [
       "a    10\n",
       "b    20\n",
       "c    30\n",
       "dtype: int64"
      ]
     },
     "execution_count": 24,
     "metadata": {},
     "output_type": "execute_result"
    }
   ],
   "source": [
    "# Creating a Series from a list with custom index labels\n",
    "# Specifying custom labels using the 'index' parameter instead of default integers\n",
    "pd.Series(my_list,index=labels)"
   ]
  },
  {
   "cell_type": "code",
   "execution_count": 25,
   "id": "15572ca2-54a9-4445-9db2-f9d0fb62b05f",
   "metadata": {},
   "outputs": [
    {
     "data": {
      "text/plain": [
       "0    10\n",
       "1    20\n",
       "2    30\n",
       "dtype: int64"
      ]
     },
     "execution_count": 25,
     "metadata": {},
     "output_type": "execute_result"
    }
   ],
   "source": [
    "# Creating a Series from a NumPy array\n",
    "# pandas automatically handling NumPy arrays and using default integer indexing\n",
    "pd.Series(arr)"
   ]
  },
  {
   "cell_type": "code",
   "execution_count": 26,
   "id": "2b700acc-2787-4e39-b6c2-fb68f9199a7f",
   "metadata": {},
   "outputs": [
    {
     "data": {
      "text/plain": [
       "a    10\n",
       "b    20\n",
       "c    30\n",
       "dtype: int64"
      ]
     },
     "execution_count": 26,
     "metadata": {},
     "output_type": "execute_result"
    }
   ],
   "source": [
    "# Creating a Series from a Python dictionary\n",
    "# Dictionary keys becoming the index labels, values becoming the Series data\n",
    "pd.Series(d)"
   ]
  },
  {
   "cell_type": "code",
   "execution_count": null,
   "id": "61579bef-ad76-4274-ac4d-eb01945c09e3",
   "metadata": {},
   "outputs": [],
   "source": []
  }
 ],
 "metadata": {
  "kernelspec": {
   "display_name": "Python 3 (ipykernel)",
   "language": "python",
   "name": "python3"
  },
  "language_info": {
   "codemirror_mode": {
    "name": "ipython",
    "version": 3
   },
   "file_extension": ".py",
   "mimetype": "text/x-python",
   "name": "python",
   "nbconvert_exporter": "python",
   "pygments_lexer": "ipython3",
   "version": "3.13.7"
  }
 },
 "nbformat": 4,
 "nbformat_minor": 5
}
