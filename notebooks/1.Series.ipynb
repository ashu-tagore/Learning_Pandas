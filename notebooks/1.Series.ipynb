{
 "cells": [
  {
   "cell_type": "markdown",
   "id": "48ac17aa-4860-4f37-8b7c-d680fa8eebb2",
   "metadata": {},
   "source": [
    "<div class=\"alert alert-block alert-success\">\n",
    "<b>SERIES</b>\n",
    "<p>A series is a one-dimensional labelled array capable of holding any data type. The axis labels are collectively called index.</p>\n",
    "<p>Real-world example: Think of a Series like a list of students and their grades:</p>\n",
    "<ul>Student 1 → 85</ul>\n",
    "<ul>Student 2 → 92</ul>\n",
    "<ul>Student 3 → 78</ul>\n",
    "<ul>Student 4 → 95</ul>\n",
    "</div>"
   ]
  },
  {
   "cell_type": "markdown",
   "id": "0cb8f078-c9d0-4439-8a7e-1e5a3bf7556a",
   "metadata": {},
   "source": [
    "<div class=\"alert alert-block alert-danger\">\n",
    "Creating Series\n",
    "</div>"
   ]
  },
  {
   "cell_type": "code",
   "execution_count": 1,
   "id": "8dec72b1-4afc-44ac-9a4b-8b78f06bd0a1",
   "metadata": {},
   "outputs": [],
   "source": [
    "import numpy as np \n",
    "import pandas as pd "
   ]
  },
  {
   "cell_type": "code",
   "execution_count": 2,
   "id": "0b5fded4-2194-49c3-8501-af3af56c22e8",
   "metadata": {},
   "outputs": [],
   "source": [
    "# Creating different Python objects that can be converted to pandas Series\n",
    "labels = ['a', 'b', 'c']\n",
    "my_list = [10,20,30]\n",
    "arr = np.array([10,20,30])\n",
    "d = {'a':10,'b':20,'c':30}"
   ]
  },
  {
   "cell_type": "code",
   "execution_count": 3,
   "id": "e2e01bfd-b3e4-4a90-be54-667264c2ff5f",
   "metadata": {},
   "outputs": [
    {
     "data": {
      "text/plain": [
       "0    10\n",
       "1    20\n",
       "2    30\n",
       "dtype: int64"
      ]
     },
     "execution_count": 3,
     "metadata": {},
     "output_type": "execute_result"
    }
   ],
   "source": [
    "# Creating a Series from a Python list\n",
    "# Using default integer indexing (0, 1, 2...)\n",
    "pd.Series(my_list)"
   ]
  },
  {
   "cell_type": "code",
   "execution_count": 4,
   "id": "15028c7f-6ec0-4f9b-aafb-c3082217eec8",
   "metadata": {},
   "outputs": [
    {
     "data": {
      "text/plain": [
       "a    10\n",
       "b    20\n",
       "c    30\n",
       "dtype: int64"
      ]
     },
     "execution_count": 4,
     "metadata": {},
     "output_type": "execute_result"
    }
   ],
   "source": [
    "# Creating a Series from a list with custom index labels\n",
    "# Specifying custom labels using the 'index' parameter instead of default integers\n",
    "pd.Series(my_list,index=labels)"
   ]
  },
  {
   "cell_type": "code",
   "execution_count": 5,
   "id": "15572ca2-54a9-4445-9db2-f9d0fb62b05f",
   "metadata": {},
   "outputs": [
    {
     "data": {
      "text/plain": [
       "0    10\n",
       "1    20\n",
       "2    30\n",
       "dtype: int64"
      ]
     },
     "execution_count": 5,
     "metadata": {},
     "output_type": "execute_result"
    }
   ],
   "source": [
    "# Creating a Series from a NumPy array\n",
    "# pandas automatically handling NumPy arrays and using default integer indexing\n",
    "pd.Series(arr)"
   ]
  },
  {
   "cell_type": "code",
   "execution_count": 6,
   "id": "2b700acc-2787-4e39-b6c2-fb68f9199a7f",
   "metadata": {},
   "outputs": [
    {
     "data": {
      "text/plain": [
       "a    10\n",
       "b    20\n",
       "c    30\n",
       "dtype: int64"
      ]
     },
     "execution_count": 6,
     "metadata": {},
     "output_type": "execute_result"
    }
   ],
   "source": [
    "# Creating a Series from a Python dictionary\n",
    "# Dictionary keys becoming the index labels, values becoming the Series data\n",
    "pd.Series(d)"
   ]
  },
  {
   "cell_type": "code",
   "execution_count": 8,
   "id": "61579bef-ad76-4274-ac4d-eb01945c09e3",
   "metadata": {},
   "outputs": [
    {
     "name": "stdout",
     "output_type": "stream",
     "text": [
      "Values: [85 92 78 95]\n",
      "Index: Index(['Alice', 'Bob', 'Charlie', 'Diana'], dtype='object')\n",
      "Data type: int64\n",
      "Shape: (4,)\n",
      "Is empty: False\n"
     ]
    }
   ],
   "source": [
    "# Exploring what a Series contains\n",
    "student_grades = pd.Series({'Alice': 85, 'Bob': 92, 'Charlie': 78, 'Diana': 95})\n",
    "\n",
    "# The values (the actual numbers)\n",
    "print(\"Values:\", student_grades.values)  # [85 92 78 95]\n",
    "\n",
    "# The index (the labels)\n",
    "print(\"Index:\", student_grades.index)    # ['Alice', 'Bob', 'Charlie', 'Diana']\n",
    "\n",
    "# The data type\n",
    "print(\"Data type:\", student_grades.dtype) # int64\n",
    "\n",
    "# The shape (how many items)\n",
    "print(\"Shape:\", student_grades.shape)     # (4,)\n",
    "\n",
    "# Check if it's empty\n",
    "print(\"Is empty:\", student_grades.empty)  # False"
   ]
  },
  {
   "cell_type": "code",
   "execution_count": 10,
   "id": "613156e1-e42f-48b3-84cb-d7ab6e702678",
   "metadata": {},
   "outputs": [
    {
     "name": "stdout",
     "output_type": "stream",
     "text": [
      "85\n",
      "85\n",
      "Alice       90\n",
      "Bob         97\n",
      "Charlie     83\n",
      "Diana      100\n",
      "dtype: int64\n",
      "Alice       93.5\n",
      "Bob        101.2\n",
      "Charlie     85.8\n",
      "Diana      104.5\n",
      "dtype: float64\n",
      "Alice    85\n",
      "Bob      92\n",
      "Diana    95\n",
      "dtype: int64\n"
     ]
    }
   ],
   "source": [
    "# Accessing individual values\n",
    "print(student_grades['Alice'])    # 85 (by label)\n",
    "print(student_grades.iloc[0])     # 85 (by position)\n",
    "\n",
    "# Mathematical operations (vectorized - applies to all values at once)\n",
    "bonus_grades = student_grades + 5  # Add 5 to everyone's grade\n",
    "print(bonus_grades)\n",
    "\n",
    "# Multiplying all grades by 1.1 (10% bonus)\n",
    "curved_grades = student_grades * 1.1\n",
    "print(curved_grades)\n",
    "\n",
    "# Filtering (find students who scored above 80)\n",
    "high_scorers = student_grades[student_grades > 80]\n",
    "print(high_scorers)"
   ]
  },
  {
   "cell_type": "markdown",
   "id": "3394f195-6590-4022-8f06-ed5034e10326",
   "metadata": {},
   "source": [
    "## Practical Exercise"
   ]
  },
  {
   "cell_type": "code",
   "execution_count": 12,
   "id": "bfe72b34-cb55-4fc3-9f00-b27e8f89c1ca",
   "metadata": {},
   "outputs": [
    {
     "name": "stdout",
     "output_type": "stream",
     "text": [
      "Total weekly expenses: $302.00\n",
      "Most expensive day: Saturday ($89.45)\n",
      "Days with high spending:\n",
      "Tuesday     32.00\n",
      "Thursday    45.20\n",
      "Friday      67.30\n",
      "Saturday    89.45\n",
      "dtype: float64\n"
     ]
    }
   ],
   "source": [
    "# Creating a Series of your daily expenses for a week\n",
    "daily_expenses = pd.Series({\n",
    "    'Monday': 25.50,\n",
    "    'Tuesday': 32.00,\n",
    "    'Wednesday': 18.75,\n",
    "    'Thursday': 45.20,\n",
    "    'Friday': 67.30,\n",
    "    'Saturday': 89.45,\n",
    "    'Sunday': 23.80\n",
    "})\n",
    "\n",
    "# Calculating total weekly spending\n",
    "total = daily_expenses.sum()\n",
    "print(f\"Total weekly expenses: ${total:.2f}\")\n",
    "\n",
    "# Finding the most expensive day\n",
    "max_day = daily_expenses.idxmax()\n",
    "max_amount = daily_expenses.max()\n",
    "print(f\"Most expensive day: {max_day} (${max_amount:.2f})\")\n",
    "\n",
    "# Finding days when you spent more than $30\n",
    "expensive_days = daily_expenses[daily_expenses > 30]\n",
    "print(\"Days with high spending:\")\n",
    "print(expensive_days)"
   ]
  },
  {
   "cell_type": "code",
   "execution_count": null,
   "id": "4d42aecd-2118-4ab1-b5ed-fafc778dab21",
   "metadata": {},
   "outputs": [],
   "source": []
  }
 ],
 "metadata": {
  "kernelspec": {
   "display_name": "Python 3 (ipykernel)",
   "language": "python",
   "name": "python3"
  },
  "language_info": {
   "codemirror_mode": {
    "name": "ipython",
    "version": 3
   },
   "file_extension": ".py",
   "mimetype": "text/x-python",
   "name": "python",
   "nbconvert_exporter": "python",
   "pygments_lexer": "ipython3",
   "version": "3.13.7"
  }
 },
 "nbformat": 4,
 "nbformat_minor": 5
}
